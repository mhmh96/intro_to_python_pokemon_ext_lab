{
 "cells": [
  {
   "cell_type": "markdown",
   "metadata": {},
   "source": [
    "<img src=\"http://imgur.com/1ZcRyrc.png\" style=\"float: left; margin: 15px; height: 80px\">\n",
    "\n",
    "# 1.1-2 Lab- Data Structures and Python with Pokemon\n",
    "\n",
    "### Building \"Pokemon Stay\"\n",
    "\n",
    "---\n",
    "You are an analyst at a \"scrappy\" online gaming company that specializes in remakes of last year's fads.\n",
    "\n",
    "Your boss, who runs the product development team, is convinced that Pokemon Go's fatal flaw was that you had to actually move around outside. She has design mock-ups for a new game called Pokemon Stay: in this version players still need to move, but just from website to website. Pokemon gyms are now popular online destinations, and catching Pokemon in the \"wild\" simply requires browsing the internet for hours in the comfort of your home.\n",
    "\n",
    "She wants you to program a prototype version of the game, and analyze the planned content to help the team calibrate the design."
   ]
  },
  {
   "cell_type": "code",
   "execution_count": 34,
   "metadata": {
    "collapsed": true
   },
   "outputs": [],
   "source": [
    "from IPython.display import display"
   ]
  },
  {
   "cell_type": "markdown",
   "metadata": {},
   "source": [
    "<img src=\"http://imgur.com/l5NasQj.png\" style=\"float: left; margin: 25px 15px 0px 0px; height: 25px\">\n",
    "\n",
    "## 1. Defining a player\n",
    "\n",
    "---\n",
    "Each player needs to have a set of charactaristics, stored in variables, such as an id, a username, play data, etc. A great structure to house these variables is a `dictionary`, because the `values` can contain any python datatype includeing `list`, `dict`, `tuple`, `int`, `float`, `bool`, or `str`. \n",
    "\n",
    "The player variables are:\n",
    "\n",
    "    player_id : id code unique to each player (integer)\n",
    "    player_name : entered name of the player (string)\n",
    "    time_played : number of time played the game in minutes (float)\n",
    "    player_pokemon: the player's captured pokemon (dictionary)\n",
    "    gyms_visited: ids of the gyms that a player has visited (list)"
   ]
  },
  {
   "cell_type": "markdown",
   "metadata": {
    "collapsed": true
   },
   "source": [
    "### A) Create a `dict` for a single player.\n",
    "\n",
    "* The `player_id` should be 1\n",
    "* Since the player doesn't have a name yet, you may set the `player_name` equal to `None`\n",
    "* The rest of the fields should be populated properly depending on the datatype."
   ]
  },
  {
   "cell_type": "code",
   "execution_count": 35,
   "metadata": {
    "collapsed": true
   },
   "outputs": [],
   "source": [
    "player_1 = {\n",
    "    'player_id' : 1,\n",
    "    'player_name' : None,\n",
    "    'time_played' : 0.0,\n",
    "    'player_pokemon': {},\n",
    "    'gyms_visited': [],\n",
    "}"
   ]
  },
  {
   "cell_type": "markdown",
   "metadata": {},
   "source": [
    "### B) Create a `dict` to house your dataset of players.\n",
    "\n",
    "* Because only `player_1` exists, there should only be one `key:value` pair. \n",
    "* The `keys` of this `dict` should be the `player_id`, and the `values` should be the dictionaries with single-player info, including the `player_id` (slightly redundant).\n",
    "* Use the `display` function imported above to display `poke_players`."
   ]
  },
  {
   "cell_type": "code",
   "execution_count": 36,
   "metadata": {},
   "outputs": [
    {
     "data": {
      "text/plain": [
       "{1: {'gyms_visited': [],\n",
       "  'player_id': 1,\n",
       "  'player_name': None,\n",
       "  'player_pokemon': {},\n",
       "  'time_played': 0.0}}"
      ]
     },
     "metadata": {},
     "output_type": "display_data"
    }
   ],
   "source": [
    "poke_players = {\n",
    "    player_1['player_id']:player_1\n",
    "}\n",
    "\n",
    "display(poke_players)"
   ]
  },
  {
   "cell_type": "markdown",
   "metadata": {},
   "source": [
    "### C) Update player 1's info with your own.\n",
    "\n",
    "* By indexing your `poke_players` dictionary, update the `player_name` field to your own name.\n",
    "* `display` your `poke_players` dict to check your work."
   ]
  },
  {
   "cell_type": "code",
   "execution_count": 37,
   "metadata": {},
   "outputs": [
    {
     "data": {
      "text/plain": [
       "{1: {'gyms_visited': [],\n",
       "  'player_id': 1,\n",
       "  'player_name': 'Mike',\n",
       "  'player_pokemon': {},\n",
       "  'time_played': 0.0}}"
      ]
     },
     "execution_count": 37,
     "metadata": {},
     "output_type": "execute_result"
    }
   ],
   "source": [
    "poke_players[1]['player_name'] = 'Mike'\n",
    "poke_players"
   ]
  },
  {
   "cell_type": "markdown",
   "metadata": {},
   "source": [
    "### D) Define a function that adds a player to `poke_players`.\n",
    "\n",
    "Your functions should...\n",
    "\n",
    "* Take arguments for `players_dict`, `player_id`, and `player_name`.\n",
    "* Create a player with the above values and populate the `gyms_visited`, `player_pokemon`, and `time_played` accordingly.\n",
    "* Returns the name of the player added.\n",
    "* Add a second player to the `players` dictionary. The id should be 2, but the name is up to you!\n",
    "* Display your `poke_players` to check your work."
   ]
  },
  {
   "cell_type": "code",
   "execution_count": 38,
   "metadata": {
    "collapsed": true
   },
   "outputs": [],
   "source": [
    "def add_player(players_dict, player_id, player_name):\n",
    "    new_player = {\n",
    "        'player_id': player_id,\n",
    "        'player_name': player_name,\n",
    "        'player_pokemon': {},\n",
    "        'gyms_visited': [],\n",
    "        'time_played': 0.0\n",
    "    }\n",
    "    players_dict[new_player['player_id']] = new_player\n",
    "    print(\"{} added!\".format(new_player['player_name']))"
   ]
  },
  {
   "cell_type": "code",
   "execution_count": 39,
   "metadata": {},
   "outputs": [
    {
     "name": "stdout",
     "output_type": "stream",
     "text": [
      "Joshua added!\n"
     ]
    }
   ],
   "source": [
    "add_player(poke_players, 2, 'Joshua')"
   ]
  },
  {
   "cell_type": "code",
   "execution_count": 40,
   "metadata": {},
   "outputs": [
    {
     "data": {
      "text/plain": [
       "{1: {'gyms_visited': [],\n",
       "  'player_id': 1,\n",
       "  'player_name': 'Mike',\n",
       "  'player_pokemon': {},\n",
       "  'time_played': 0.0},\n",
       " 2: {'gyms_visited': [],\n",
       "  'player_id': 2,\n",
       "  'player_name': 'Joshua',\n",
       "  'player_pokemon': {},\n",
       "  'time_played': 0.0}}"
      ]
     },
     "execution_count": 40,
     "metadata": {},
     "output_type": "execute_result"
    }
   ],
   "source": [
    "poke_players"
   ]
  },
  {
   "cell_type": "markdown",
   "metadata": {},
   "source": [
    "<img src=\"http://imgur.com/l5NasQj.png\" style=\"float: left; margin: 25px 15px 0px 0px; height: 25px\">\n",
    "\n",
    "## 2. Defining \"gym\" locations\n",
    "\n",
    "---\n",
    "\n",
    "As the sole programmer, Pokemon Stay will have to start small. To begin, there will be 10 different gym location websites on the internet. The gym locations are:\n",
    "\n",
    "    1. 'reddit.com'\n",
    "    2. 'amazon.com'\n",
    "    3. 'twitter.com'\n",
    "    4. 'linkedin.com'\n",
    "    5. 'ebay.com'\n",
    "    6. 'netflix.com'\n",
    "    7. 'stackoverflow.com'\n",
    "    8. 'github.com'\n",
    "    9. 'quora.com'\n",
    "    10. 'google.com'\n",
    "\n",
    "* Set up a list of all the gym locations. This will be a list of strings. Print the list to check your work.\n",
    "* For each player in `poke_players`, use `sample` (imported from `random` below) to randomly select 2 gyms and add these gyms to the `gyms_visited` field.\n",
    "* Display the `poke_players` dict to check your work."
   ]
  },
  {
   "cell_type": "code",
   "execution_count": 41,
   "metadata": {},
   "outputs": [],
   "source": [
    "from random import sample"
   ]
  },
  {
   "cell_type": "code",
   "execution_count": 42,
   "metadata": {},
   "outputs": [
    {
     "data": {
      "text/plain": [
       "[('a', 'b', 'c'), 1, 0.8]"
      ]
     },
     "execution_count": 42,
     "metadata": {},
     "output_type": "execute_result"
    }
   ],
   "source": [
    "# Run this cell a few times to understand sample. Play around with the function!\n",
    "this_list = ['apple', 1, ('a','b','c'), 0.8]\n",
    "sample(this_list, 3)"
   ]
  },
  {
   "cell_type": "code",
   "execution_count": 43,
   "metadata": {
    "collapsed": true
   },
   "outputs": [],
   "source": [
    "gyms = [\n",
    "    'reddit.com',\n",
    "    'amazon.com',\n",
    "    'twitter.com',\n",
    "    'linkedin.com',\n",
    "    'ebay.com',\n",
    "    'netflix.com',\n",
    "    'stackoverflow.com',\n",
    "    'github.com',\n",
    "    'quora.com',\n",
    "    'google.com',\n",
    "]"
   ]
  },
  {
   "cell_type": "code",
   "execution_count": 44,
   "metadata": {},
   "outputs": [],
   "source": [
    "for player_id in poke_players.keys():\n",
    "    poke_players[player_id]['gyms_visited'].extend(sample(gyms,2))"
   ]
  },
  {
   "cell_type": "code",
   "execution_count": 45,
   "metadata": {},
   "outputs": [
    {
     "data": {
      "text/plain": [
       "{1: {'gyms_visited': ['github.com', 'reddit.com'],\n",
       "  'player_id': 1,\n",
       "  'player_name': 'Mike',\n",
       "  'player_pokemon': {},\n",
       "  'time_played': 0.0},\n",
       " 2: {'gyms_visited': ['google.com', 'amazon.com'],\n",
       "  'player_id': 2,\n",
       "  'player_name': 'Joshua',\n",
       "  'player_pokemon': {},\n",
       "  'time_played': 0.0}}"
      ]
     },
     "execution_count": 45,
     "metadata": {},
     "output_type": "execute_result"
    }
   ],
   "source": [
    "poke_players"
   ]
  },
  {
   "cell_type": "markdown",
   "metadata": {},
   "source": [
    "<img src=\"http://imgur.com/l5NasQj.png\" style=\"float: left; margin: 25px 15px 0px 0px; height: 25px\">\n",
    "\n",
    "## 3. Create a pokedex\n",
    "\n",
    "---\n",
    "\n",
    "We also need to create some pokemon to catch! Let's store the attributes of each pokemon in a `dictionary`, since each pokemon has many charactaristics we'd like to store.\n",
    "\n",
    "\n",
    "Each pokemon will be defined by these variables:\n",
    "\n",
    "    poke_id : unique identifier for each pokemon (integer, sequential)\n",
    "    poke_name : the name of the pokemon (string)\n",
    "    poke_type : the category of pokemon (string)\n",
    "    hp : base hitpoints (integer between 400 and 500)\n",
    "    attack : base attack (integer between 50 and 100)\n",
    "    defense : base defense (integer between 50 and 100)\n",
    "    special_attack : base special attack (integer between 100 and 150)\n",
    "    special_defense : base sepecial defense (integer between 100 and 150)\n",
    "    speed : base speed (integer between 0 and 100)"
   ]
  },
  {
   "cell_type": "markdown",
   "metadata": {},
   "source": [
    "### A) Create a function called `create_pokemon`\n",
    "\n",
    "* The function should take arguments for `poke_id`, `poke_name`, and `poke_type`.\n",
    "* Use `np.random.randint` to generate values for the numeric attributes based on the conditions above. If you're not clear on how this function works, there is a cell below with an example. Play around with it!\n",
    "* The function should return a `dict` for the pokemon.\n",
    "* Without assigning it to a variable, check the function's output by calling it with the following arguments:\n",
    "  * `poke_id = 1`\n",
    "  * `poke_name = 'charmander'`\n",
    "  * `poke_type = 'fire'`"
   ]
  },
  {
   "cell_type": "code",
   "execution_count": 46,
   "metadata": {},
   "outputs": [],
   "source": [
    "import numpy as np"
   ]
  },
  {
   "cell_type": "code",
   "execution_count": 47,
   "metadata": {},
   "outputs": [
    {
     "data": {
      "text/plain": [
       "3"
      ]
     },
     "execution_count": 47,
     "metadata": {},
     "output_type": "execute_result"
    }
   ],
   "source": [
    "# Play around with this cell to understand np.random.randint!\n",
    "\n",
    "np.random.randint(0,10)"
   ]
  },
  {
   "cell_type": "code",
   "execution_count": 48,
   "metadata": {
    "collapsed": true
   },
   "outputs": [],
   "source": [
    "def create_pokemon(poke_id, poke_name, poke_type):\n",
    "    return {\n",
    "        'poke_id': poke_id,\n",
    "        'poke_name': poke_name,\n",
    "        'poke_type': poke_type,\n",
    "        'hp': np.random.randint(400,500), \n",
    "        'attack': np.random.randint(50,100),\n",
    "        'defense': np.random.randint(50,100),\n",
    "        'special_attack': np.random.randint(100,150),\n",
    "        'special_defense': np.random.randint(100,150),\n",
    "        'speed': np.random.randint(0,100)\n",
    "    }"
   ]
  },
  {
   "cell_type": "code",
   "execution_count": 49,
   "metadata": {},
   "outputs": [
    {
     "data": {
      "text/plain": [
       "{'attack': 61,\n",
       " 'defense': 52,\n",
       " 'hp': 431,\n",
       " 'poke_id': 1,\n",
       " 'poke_name': 'charmander',\n",
       " 'poke_type': 'fire',\n",
       " 'special_attack': 142,\n",
       " 'special_defense': 117,\n",
       " 'speed': 2}"
      ]
     },
     "execution_count": 49,
     "metadata": {},
     "output_type": "execute_result"
    }
   ],
   "source": [
    "create_pokemon(1, 'charmander', 'fire')"
   ]
  },
  {
   "cell_type": "markdown",
   "metadata": {},
   "source": [
    "### B) Populate the `pokedex`!\n",
    "\n",
    "Now we need some pokemon to catch. Let's create a dictionary to store the information!\n",
    "\n",
    "* Instantiate an empyt dictionary called `pokedex`.\n",
    "* Define a function called `create_and_add_to_pokedex`. This function should...\n",
    "  * Take arguments for `pokedex`,  `poke_id`, `poke_name`, and `poke_type`.\n",
    "  * Uses the `create_pokemon` function you created earlier to create a pokemon using the provided `poke_id`, `poke_name`, and `poke_type`.\n",
    "  * Add a new `key:value` pair to the `pokedex` dictionary where:\n",
    "    * the `key` is the `poke_id`, and\n",
    "    * the `value` is the newly-created pokemon dict, including the `poke_id` (this is slightly redundant, but that's ok!)\n",
    "  * Prints the name of the pokemon added to the pokedex using `str.format()`\n",
    "* Add the following 3 pokemon to your `pokedex` using `create_and_add_to_pokedex`:\n",
    "\n",
    "|Id|Name|Type|\n",
    "|---|---|---|\n",
    "|1|charmander|fire|\n",
    "|2|squirtle|water|\n",
    "|3|bulasaur|poison|\n",
    "\n",
    "Display your `pokedex` to check your work. It should look something like...\n",
    "\n",
    "```python\n",
    "{1: {'attack': 64,\n",
    "  'defense': 59,\n",
    "  'hp': 495,\n",
    "  'poke_id': 1,\n",
    "  'poke_name': 'charmander',\n",
    "  'poke_type': 'fire',\n",
    "  'special_attack': 100,\n",
    "  ...\n",
    "```"
   ]
  },
  {
   "cell_type": "code",
   "execution_count": 50,
   "metadata": {},
   "outputs": [],
   "source": [
    "pokedex = {}"
   ]
  },
  {
   "cell_type": "code",
   "execution_count": 51,
   "metadata": {
    "collapsed": true
   },
   "outputs": [],
   "source": [
    "def create_and_add_to_pokedex(pokedex, poke_id, poke_name, poke_type):\n",
    "    poke = create_pokemon(poke_id, poke_name, poke_type)\n",
    "    pokedex[poke['poke_id']] = poke\n",
    "    return print(\"{} added to pokedex\".format(poke['poke_name']))"
   ]
  },
  {
   "cell_type": "code",
   "execution_count": 52,
   "metadata": {},
   "outputs": [
    {
     "data": {
      "text/plain": [
       "{}"
      ]
     },
     "execution_count": 52,
     "metadata": {},
     "output_type": "execute_result"
    }
   ],
   "source": [
    "pokedex"
   ]
  },
  {
   "cell_type": "code",
   "execution_count": 53,
   "metadata": {},
   "outputs": [
    {
     "name": "stdout",
     "output_type": "stream",
     "text": [
      "charmander added to pokedex\n",
      "squirtle added to pokedex\n",
      "bulbasaur added to pokedex\n"
     ]
    }
   ],
   "source": [
    "create_and_add_to_pokedex(pokedex, 1, 'charmander', 'fire')\n",
    "create_and_add_to_pokedex(pokedex, 2, 'squirtle', 'water')\n",
    "create_and_add_to_pokedex(pokedex, 3, 'bulbasaur', 'poison')"
   ]
  },
  {
   "cell_type": "code",
   "execution_count": 54,
   "metadata": {},
   "outputs": [
    {
     "data": {
      "text/plain": [
       "{1: {'attack': 99,\n",
       "  'defense': 50,\n",
       "  'hp': 471,\n",
       "  'poke_id': 1,\n",
       "  'poke_name': 'charmander',\n",
       "  'poke_type': 'fire',\n",
       "  'special_attack': 134,\n",
       "  'special_defense': 110,\n",
       "  'speed': 33},\n",
       " 2: {'attack': 74,\n",
       "  'defense': 79,\n",
       "  'hp': 404,\n",
       "  'poke_id': 2,\n",
       "  'poke_name': 'squirtle',\n",
       "  'poke_type': 'water',\n",
       "  'special_attack': 110,\n",
       "  'special_defense': 146,\n",
       "  'speed': 66},\n",
       " 3: {'attack': 76,\n",
       "  'defense': 76,\n",
       "  'hp': 409,\n",
       "  'poke_id': 3,\n",
       "  'poke_name': 'bulbasaur',\n",
       "  'poke_type': 'poison',\n",
       "  'special_attack': 103,\n",
       "  'special_defense': 132,\n",
       "  'speed': 76}}"
      ]
     },
     "execution_count": 54,
     "metadata": {},
     "output_type": "execute_result"
    }
   ],
   "source": [
    "pokedex"
   ]
  },
  {
   "cell_type": "markdown",
   "metadata": {},
   "source": [
    "<img src=\"http://imgur.com/l5NasQj.png\" style=\"float: left; margin: 25px 15px 0px 0px; height: 25px\">\n",
    "\n",
    "## 4. Let's capture some pokemon!\n",
    "\n",
    "---\n",
    "\n",
    "The `'player_pokemon'` keyed dictionaries for each player keep track of which of the pokemon each player has.\n",
    "\n",
    "The keys of the `'player_pokemon'` dictionaries are the pokemon ids that correspond to the ids in the `pokedex` dictionary you created earlier, and the values are the individual pokemon dicts. Just like your `pokedex`, but for each player individually!\n",
    "\n",
    "* Define a function called `add_pokemon_to_player` that...\n",
    "  * Takes arguents for `player_id`, `poke_id`, `player_dict`, and `pokedex`.\n",
    "    * You may set the default `player_dict` to `poke_players` and the default `pokedex` to the external variable `pokedex`\n",
    "  * Adds the desired pokemon to the `player_pokemon` field of the specified player\n",
    "  * Prints which pokemon was added to which player.\n",
    "* Use your function to add squirtle to player 1, and add charmander and bulbasaur to player 2\n",
    "* Display your `poke_players` to check your work."
   ]
  },
  {
   "cell_type": "code",
   "execution_count": 55,
   "metadata": {},
   "outputs": [],
   "source": [
    "def add_pokemon_to_player(player_id, poke_id, player_dict = poke_players, pokedex = pokedex):\n",
    "    player_dict[player_id]['player_pokemon'][poke_id] = pokedex[poke_id]\n",
    "    print(\"{} added to {}'s player_pokemon!\".format(pokedex[poke_id]['poke_name'], player_dict[player_id]['player_name']))"
   ]
  },
  {
   "cell_type": "code",
   "execution_count": 56,
   "metadata": {},
   "outputs": [
    {
     "name": "stdout",
     "output_type": "stream",
     "text": [
      "squirtle added to Mike's player_pokemon!\n",
      "charmander added to Joshua's player_pokemon!\n",
      "bulbasaur added to Joshua's player_pokemon!\n"
     ]
    }
   ],
   "source": [
    "add_pokemon_to_player(1, 2)\n",
    "add_pokemon_to_player(2,1)\n",
    "add_pokemon_to_player(2,3)"
   ]
  },
  {
   "cell_type": "markdown",
   "metadata": {},
   "source": [
    "\n",
    "\n",
    "## 5. What gyms have players visited?\n",
    "\n",
    "---\n",
    "<img src=\"http://imgur.com/l5NasQj.png\" style=\"float: left; margin: 25px 15px 0px 0px; height: 25px\">\n",
    "\n",
    "### A) Checking gyms\n",
    "\n",
    "Write a for-loop that:\n",
    "\n",
    "1. Iterates through the `pokemon_gyms` list of gym locations you defined before.\n",
    "2. For each gym, iterate through each player in the `players` dictionary with a second, internal for-loop.\n",
    "3. If the player has visited the gym, print out \"[player] has visited [gym location].\", filling in [player] and [gym location] with the current player's name and current gym location."
   ]
  },
  {
   "cell_type": "code",
   "execution_count": 57,
   "metadata": {},
   "outputs": [
    {
     "name": "stdout",
     "output_type": "stream",
     "text": [
      "Mike has visited reddit.com\n",
      "Joshua has visited amazon.com\n",
      "Mike has visited github.com\n",
      "Joshua has visited google.com\n"
     ]
    }
   ],
   "source": [
    "for gym in gyms:\n",
    "    for player_id, player_dict in poke_players.items():\n",
    "        if gym in player_dict['gyms_visited']:\n",
    "            print(\"{} has visited {}\".format(player_dict['player_name'], gym))"
   ]
  },
  {
   "cell_type": "markdown",
   "metadata": {},
   "source": [
    "<img src=\"http://imgur.com/xDpSobf.png\" style=\"float: left; margin: 25px 15px 0px 0px; height: 25px\">\n",
    "### B) Computational Complexity\n",
    "\n",
    "How many times did that loop run? If you have N gyms and also M players, how many times would it run as a function of N and M? \n",
    "\n",
    "(You can write your answer as Markdown text.)"
   ]
  },
  {
   "cell_type": "markdown",
   "metadata": {
    "collapsed": true
   },
   "source": [
    "$N \\text{ gyms x } M \\text{ players } = NxM$"
   ]
  },
  {
   "cell_type": "markdown",
   "metadata": {},
   "source": [
    "<img src=\"http://imgur.com/l5NasQj.png\" style=\"float: left; margin: 25px 15px 0px 0px; height: 25px\">\n",
    "\n",
    "## 6. Calculate player \"power\".\n",
    "\n",
    "---\n",
    "\n",
    "Define a function that will calculate a player's \"power\". Player power is defined as the sum of the base statistics all of their pokemon.\n",
    "\n",
    "$$\n",
    "\\text{player power } = \\sum_{i = 1}^{n}\\text{attack}_i + \\text{defense}_i + \\text{special attack}_i + \\text{special defense}_i\n",
    "$$\n",
    "\n",
    "Where $i$ is an individual pokemon in a player's `player_pokemon`. ($\\sum$ just means sum, so you're just adding up all the attributes listed above for all the pokemon in the player's `player_pokemon`).\n",
    "\n",
    "Your function should:\n",
    "\n",
    "*  Accept a `poke_players` dictionary and a `player_id` as arguments.\n",
    "*  For the specified player_id, look up that player's pokemon.\n",
    "*  Find and aggregate the attack and defense values for each of the player's pokemon.\n",
    "*  Print \"[player name]'s power is [player power].\", where the player power is the sum of the base statistics for all of their pokemon.\n",
    "*  Return the player's power value.\n",
    "\n",
    "Check your work by displaying pokemon power for each of your players."
   ]
  },
  {
   "cell_type": "code",
   "execution_count": 62,
   "metadata": {
    "collapsed": true
   },
   "outputs": [],
   "source": [
    "def get_power(player_id, player_dict = poke_players):\n",
    "    power = 0.0\n",
    "    attrs = ['attack','defense','special_attack','special_defense']\n",
    "    for poke_id, poke_dict in player_dict[player_id]['player_pokemon'].items():\n",
    "        for attr in attrs:\n",
    "            power += poke_dict[attr]\n",
    "    print(\"{}'s power is {}\".format(player_dict[player_id]['player_name'], power))\n",
    "    return power"
   ]
  },
  {
   "cell_type": "code",
   "execution_count": 92,
   "metadata": {},
   "outputs": [
    {
     "name": "stdout",
     "output_type": "stream",
     "text": [
      "Mike's power is 409.0\n",
      "409.0\n",
      "Joshua's power is 780.0\n",
      "780.0\n"
     ]
    }
   ],
   "source": [
    "for player_id in poke_players.keys():\n",
    "    print(get_power(player_id))"
   ]
  },
  {
   "cell_type": "markdown",
   "metadata": {
    "collapsed": true
   },
   "source": [
    "<img src=\"http://imgur.com/l5NasQj.png\" style=\"float: left; margin: 25px 15px 0px 0px; height: 25px\">\n",
    "\n",
    "## 7. Load a pokedex file containing all the pokemon\n",
    "\n",
    "---\n",
    "\n",
    "### Load data using the `with open()` method.\n",
    "\n",
    "While you were putting together the prototype code, your colleagues were preparing a dataset of Pokemon and their attributes (This was a rush job, so they may have picked some crazy values for some...). Your task is to load the data into a list of lists so you can manipulate it.\n",
    "\n",
    "* The `type` of the data should be a `list`\n",
    "  * The `type` of each element in that list should be a `list`\n",
    "    * The `type` of each element in the sub-list should be `str` or `float`.\n",
    "\n",
    "The code provided loads the data into one looooong `str`. To get it into the correct format:\n",
    "* Use `your_string.replace()` to remove `\"`, where `your_string` is any object of type `str`. \n",
    "* Use `your_string.split()` to create a new row for each line. New lines are denoted with a `'\\n'`.\n",
    "* Iterate through your data. Use `try/except` to cast numeric data as type `float`. \n",
    "\n",
    "Your end result is effectively a matrix. Each list $i$ in the outer list is a row, and the $j$th elements of list together form the *j*th column, which represents a data attribute. The first three lists in your pokedex list should look like this:\n",
    "\n",
    "    ['PokedexNumber', 'Name', 'Type', 'Total', 'HP', 'Attack', 'Defense', 'SpecialAttack', 'SpecialDefense', 'Speed']\n",
    "    [1.0, 'Bulbasaur', 'GrassPoison', 318.0, 45.0, 49.0, 49.0, 65.0, 65.0, 45.0]\n",
    "    [2.0, 'Ivysaur', 'GrassPoison', 405.0, 60.0, 62.0, 63.0, 80.0, 80.0, 60.0]\n",
    "    \n",
    "**WARNING:** Don't print or display your entire new pokedex! Viewing that many entries will clog up your notebook and make it difficult to read."
   ]
  },
  {
   "cell_type": "code",
   "execution_count": 99,
   "metadata": {},
   "outputs": [],
   "source": [
    "# Code to read in pokedex info\n",
    "raw_pd = ''\n",
    "pokedex_file = 'pokedex_basic.csv'\n",
    "with open(pokedex_file, 'r') as f:\n",
    "    raw_pd = f.read()\n",
    "    \n",
    "# the pokedex string is assigned to the raw_pd variable"
   ]
  },
  {
   "cell_type": "code",
   "execution_count": 100,
   "metadata": {},
   "outputs": [
    {
     "data": {
      "text/plain": [
       "['PokedexNumber,Name,Type,Total,HP,Attack,Defense,SpecialAttack,SpecialDefense,Speed',\n",
       " '001,Bulbasaur,GrassPoison,318,45,49,49,65,65,45',\n",
       " '002,Ivysaur,GrassPoison,405,60,62,63,80,80,60']"
      ]
     },
     "execution_count": 100,
     "metadata": {},
     "output_type": "execute_result"
    }
   ],
   "source": [
    "newlines = raw_pd.replace('\"','').split('\\n')\n",
    "newlines[:3]"
   ]
  },
  {
   "cell_type": "code",
   "execution_count": 101,
   "metadata": {
    "collapsed": true
   },
   "outputs": [],
   "source": [
    "new_pd = []\n",
    "for line in newlines:\n",
    "    new_pd.append(line.split(','))"
   ]
  },
  {
   "cell_type": "code",
   "execution_count": 102,
   "metadata": {
    "collapsed": true
   },
   "outputs": [],
   "source": [
    "for i, line in enumerate(new_pd):\n",
    "    for j, item in enumerate(line):\n",
    "        try:\n",
    "            new_pd[i][j] = float(item)\n",
    "        except:\n",
    "            pass"
   ]
  },
  {
   "cell_type": "code",
   "execution_count": 103,
   "metadata": {},
   "outputs": [
    {
     "data": {
      "text/plain": [
       "[['PokedexNumber',\n",
       "  'Name',\n",
       "  'Type',\n",
       "  'Total',\n",
       "  'HP',\n",
       "  'Attack',\n",
       "  'Defense',\n",
       "  'SpecialAttack',\n",
       "  'SpecialDefense',\n",
       "  'Speed'],\n",
       " [1.0, 'Bulbasaur', 'GrassPoison', 318.0, 45.0, 49.0, 49.0, 65.0, 65.0, 45.0],\n",
       " [2.0, 'Ivysaur', 'GrassPoison', 405.0, 60.0, 62.0, 63.0, 80.0, 80.0, 60.0]]"
      ]
     },
     "execution_count": 103,
     "metadata": {},
     "output_type": "execute_result"
    }
   ],
   "source": [
    "new_pd[:3]"
   ]
  },
  {
   "cell_type": "markdown",
   "metadata": {},
   "source": [
    "<img src=\"http://imgur.com/xDpSobf.png\" style=\"float: left; margin: 25px 15px 0px 0px; height: 25px\">\n",
    "\n",
    "## 8. Changing Types\n",
    "\n",
    "---\n",
    "\n",
    "### A) Convert your data into a dictionary.\n",
    "\n",
    "Your `dict` should...\n",
    "* have `keys` of the new `pokedex` as the `PokedexNumber`\n",
    "* have `values` containing data for each pokemon in a dictionary form, just like our `pokedex` from before\n",
    "  * Keep in mind, the `keys` here are a little bit different than the original `pokedex`.\n",
    "  * Be careful of the header, you do not want to include that as a pokemon.\n",
    "* **WARNING:** Don't display your entire `pokedex` when turning this in! Viewing that many entries will clog up your notebook and make it difficult to read. If youd like to visualize your `pokedex`, index with a few of its `keys`.\n",
    "\n",
    "Your `new_pd_dict` should be organized like...\n",
    "\n",
    "```python\n",
    "{1.0: {'Attack': 49.0,\n",
    "  'Defense': 49.0,\n",
    "  'HP': 45.0,\n",
    "  'Name': 'Bulbasaur',\n",
    "  'PokedexNumber': 1.0,\n",
    "  'SpecialAttack': 65.0,\n",
    "  'SpecialDefense': 65.0,\n",
    "  'Speed': 45.0,\n",
    "  'Total': 318.0,\n",
    "  'Type': 'GrassPoison'},\n",
    " 2.0: {'Attack': 62.0,\n",
    "  'Defense': 63.0,\n",
    "  'HP': 60.0,\n",
    "  'Name': 'Ivysaur',\n",
    "```"
   ]
  },
  {
   "cell_type": "code",
   "execution_count": 106,
   "metadata": {
    "collapsed": true
   },
   "outputs": [],
   "source": [
    "header = new_pd[0]\n",
    "body = new_pd[1:]"
   ]
  },
  {
   "cell_type": "code",
   "execution_count": 108,
   "metadata": {},
   "outputs": [],
   "source": [
    "new_pd_dict = {}\n",
    "\n",
    "for row in body:\n",
    "    poke = {i:j for i,j in zip(header, row)}\n",
    "    new_pd_dict[poke['PokedexNumber']] = poke"
   ]
  },
  {
   "cell_type": "markdown",
   "metadata": {},
   "source": [
    "### B) Orient your `new_pd_dict` by columns.\n",
    "\n",
    "Your new pokedex is oriented by index, meaning that each entry is a row value. Your goal in this exercise is to orient the pokedex dict by columns, meaning:\n",
    "\n",
    "* The keys of the dictionary are the column names\n",
    "* The values of the dictionary are a **column vector** of that feature.\n",
    "* **HINT:** Read documentation on `defaultdict` (`from collections import defaultdict`), this may help!\n",
    "* **BONUS:** Do this with list and/or dictionary comprehensions only"
   ]
  },
  {
   "cell_type": "code",
   "execution_count": 117,
   "metadata": {
    "collapsed": true
   },
   "outputs": [],
   "source": [
    "from collections import defaultdict"
   ]
  },
  {
   "cell_type": "code",
   "execution_count": 122,
   "metadata": {
    "collapsed": true
   },
   "outputs": [],
   "source": [
    "# Base solution\n",
    "new_pd_dict_columns = {}\n",
    "\n",
    "for col_name in header:\n",
    "    new_pd_dict_columns[col_name] = []\n",
    "\n",
    "for poke_id, single_poke_dict in new_pd_dict.items():\n",
    "    for field, attribute in single_poke_dict.items():\n",
    "        new_pd_dict_columns[field]"
   ]
  },
  {
   "cell_type": "code",
   "execution_count": 118,
   "metadata": {
    "collapsed": true
   },
   "outputs": [],
   "source": [
    "# Using defaultdict\n",
    "new_pd_dict_columns = defaultdict(list)\n",
    "\n",
    "for poke_id, single_poke_dict in new_pd_dict.items():\n",
    "    for field, attribute in single_poke_dict.items():\n",
    "        new_pd_dict_columns[field]"
   ]
  },
  {
   "cell_type": "code",
   "execution_count": 125,
   "metadata": {
    "collapsed": true
   },
   "outputs": [],
   "source": [
    "# Using list/dict comprehensions\n",
    "new_pd_dict_columns = {\n",
    "    col_name:[single_poke_dict[col_name] for poke_id, single_poke_dict in new_pd_dict.items()] for col_name in header\n",
    "}"
   ]
  },
  {
   "cell_type": "markdown",
   "metadata": {},
   "source": [
    "<img src=\"http://i.imgur.com/GCAf1UX.png\" style=\"float: left; margin: 25px 15px 0px 0px; height: 25px\">\n",
    "\n",
    "## 9. Write a function to filter your pokedex!\n",
    "---\n",
    "\n",
    "Your goal in this exercise is to search your pokedex based on your own defined criteria! Build a function that...\n",
    "\n",
    "* Takes arguments of: \n",
    "  * a pokedex dict (can be either the row or column oriented dict, pick the one of your choice!)\n",
    "  * a `filter_options` dict (described below)\n",
    "* For parameters in your `filter_dict`, your function should return:\n",
    "  * pokemon that are >= (greater than or equal to) the value you passed in your `filter_dict` for that field for continuous values\n",
    "  * pokemon of that name or type for string values (equal)\n",
    "* Return a list of the individual pokemon dictionaries that meet your search criteia!\n",
    "\n",
    "Example:\n",
    "\n",
    "```python\n",
    "\n",
    "# Only filter based on parameters passed\n",
    "filter_options = {\n",
    "    'Attack':   25,\n",
    "    'Defense':  30,\n",
    "    'Type':     'Electric'\n",
    "}\n",
    "\n",
    "# Return records with attack >= 24, defense >= 30, and type == \"Electric\"\n",
    "# Also anticipate that other paramters can also be passed such as \"SpecialAttack\", \"Speed\", etc.\n",
    "filtered_pokedex(pokedex_data, filter=filter_options)\n",
    "\n",
    "# Example output:\n",
    "# [{'Attack': 30.0,\n",
    "#  'Defense': 50.0,\n",
    "#  'HP': 40.0,\n",
    "#  'Name': 'Voltorb',\n",
    "#  'SpecialAttack': 55.0,\n",
    "#  'SpecialDefense': 55.0,\n",
    "#  'Speed': 100.0,\n",
    "#  'Total': 330.0,\n",
    "#  'Type': 'Electric'},\n",
    "#  {'Attack': 30.0,\n",
    "#  'Defense': 33.0,\n",
    "#  'HP': 32.0,\n",
    "#  'Name': 'Pikachu',\n",
    "#  'SpecialAttack': 55.0,\n",
    "#  'SpecialDefense': 55.0,\n",
    "#  'Speed': 100.0,\n",
    "#  'Total': 330.0,\n",
    "#  'Type': 'Electric'},\n",
    "#  ... etc\n",
    "#  ]\n",
    "\n",
    "```\n",
    "\n"
   ]
  },
  {
   "cell_type": "code",
   "execution_count": 129,
   "metadata": {},
   "outputs": [],
   "source": [
    "from collections import Counter"
   ]
  },
  {
   "cell_type": "code",
   "execution_count": 141,
   "metadata": {},
   "outputs": [],
   "source": [
    "# Example where orient is rows, not columns\n",
    "def filter_pokemon(pokedex, filter_dict):\n",
    "    results = []\n",
    "    num_filters = len(list(filter_dict.keys()))\n",
    "    for poke_id, poke_attr_dict in pokedex.items():\n",
    "        counter = 0\n",
    "        for field, value in filter_dict.items():\n",
    "            if type(value) is str:\n",
    "                if value == poke_attr_dict[field]:\n",
    "                    counter += 1\n",
    "            else:\n",
    "                if poke_attr_dict[field] >= value:\n",
    "                    counter += 1\n",
    "        if counter == num_filters:\n",
    "            results.append(poke_attr_dict)\n",
    "    return results"
   ]
  },
  {
   "cell_type": "code",
   "execution_count": 147,
   "metadata": {},
   "outputs": [
    {
     "data": {
      "text/plain": [
       "[{'Attack': 100.0,\n",
       "  'Defense': 123.0,\n",
       "  'HP': 80.0,\n",
       "  'Name': 'VenusaurMega Venusaur',\n",
       "  'PokedexNumber': 3.0,\n",
       "  'SpecialAttack': 122.0,\n",
       "  'SpecialDefense': 120.0,\n",
       "  'Speed': 80.0,\n",
       "  'Total': 625.0,\n",
       "  'Type': 'GrassPoison'},\n",
       " {'Attack': 80.0,\n",
       "  'Defense': 85.0,\n",
       "  'HP': 75.0,\n",
       "  'Name': 'Vileplume',\n",
       "  'PokedexNumber': 45.0,\n",
       "  'SpecialAttack': 110.0,\n",
       "  'SpecialDefense': 90.0,\n",
       "  'Speed': 50.0,\n",
       "  'Total': 490.0,\n",
       "  'Type': 'GrassPoison'}]"
      ]
     },
     "execution_count": 147,
     "metadata": {},
     "output_type": "execute_result"
    }
   ],
   "source": [
    "filter_dict = {'SpecialAttack':50,\n",
    "               'Type':'GrassPoison',\n",
    "               'Defense':80}\n",
    "filter_pokemon(new_pd_dict, filter_dict)"
   ]
  },
  {
   "cell_type": "markdown",
   "metadata": {
    "collapsed": true
   },
   "source": [
    "\n",
    "## 10. Descriptive statistics on the prototype pokedex\n",
    "\n",
    "<img src=\"http://imgur.com/l5NasQj.png\" style=\"float: left; margin: 25px 15px 0px 0px; height: 25px\">\n",
    "### A) What is the population mean and standard deviation of the \"Total\" attribute for all characters in the Pokedex?"
   ]
  },
  {
   "cell_type": "code",
   "execution_count": 149,
   "metadata": {
    "collapsed": true
   },
   "outputs": [],
   "source": [
    "import numpy as np"
   ]
  },
  {
   "cell_type": "code",
   "execution_count": 152,
   "metadata": {},
   "outputs": [
    {
     "data": {
      "text/plain": [
       "424.95006934812761"
      ]
     },
     "execution_count": 152,
     "metadata": {},
     "output_type": "execute_result"
    }
   ],
   "source": [
    "this_mean = np.mean(new_pd_dict_columns['Total'])\n",
    "this_mean"
   ]
  },
  {
   "cell_type": "code",
   "execution_count": 153,
   "metadata": {},
   "outputs": [
    {
     "data": {
      "text/plain": [
       "118.71177581751657"
      ]
     },
     "execution_count": 153,
     "metadata": {},
     "output_type": "execute_result"
    }
   ],
   "source": [
    "this_std = np.std(new_pd_dict_columns['Total'])\n",
    "this_std"
   ]
  },
  {
   "cell_type": "markdown",
   "metadata": {},
   "source": [
    "<img src=\"http://imgur.com/l5NasQj.png\" style=\"float: left; margin: 25px 15px 0px 0px; height: 25px\">\n",
    "### B) Outlier detection part 1\n",
    "\n",
    "The game is no fun if the pokemon are wildly unbalanced! Are any pokemon \"overpowered\", which we'll define as having a \"Total\" more than 2.5 standard deviations from the population mean?"
   ]
  },
  {
   "cell_type": "code",
   "execution_count": 158,
   "metadata": {},
   "outputs": [
    {
     "data": {
      "text/plain": [
       "[{'Attack': 150.0,\n",
       "  'Defense': 70.0,\n",
       "  'HP': 106.0,\n",
       "  'Name': 'MewtwoMega Mewtwo Y',\n",
       "  'PokedexNumber': 150.0,\n",
       "  'SpecialAttack': 194.0,\n",
       "  'SpecialDefense': 120.0,\n",
       "  'Speed': 140.0,\n",
       "  'Total': 780.0,\n",
       "  'Type': 'Psychic'},\n",
       " {'Attack': 164.0,\n",
       "  'Defense': 150.0,\n",
       "  'HP': 100.0,\n",
       "  'Name': 'TyranitarMega Tyranitar',\n",
       "  'PokedexNumber': 248.0,\n",
       "  'SpecialAttack': 95.0,\n",
       "  'SpecialDefense': 120.0,\n",
       "  'Speed': 71.0,\n",
       "  'Total': 700.0,\n",
       "  'Type': 'RockDark'},\n",
       " {'Attack': 90.0,\n",
       "  'Defense': 130.0,\n",
       "  'HP': 106.0,\n",
       "  'Name': 'Lugia',\n",
       "  'PokedexNumber': 249.0,\n",
       "  'SpecialAttack': 90.0,\n",
       "  'SpecialDefense': 154.0,\n",
       "  'Speed': 110.0,\n",
       "  'Total': 680.0,\n",
       "  'Type': 'PsychicFlying'},\n",
       " {'Attack': 130.0,\n",
       "  'Defense': 90.0,\n",
       "  'HP': 106.0,\n",
       "  'Name': 'Ho-oh',\n",
       "  'PokedexNumber': 250.0,\n",
       "  'SpecialAttack': 110.0,\n",
       "  'SpecialDefense': 154.0,\n",
       "  'Speed': 90.0,\n",
       "  'Total': 680.0,\n",
       "  'Type': 'FireFlying'},\n",
       " {'Attack': 160.0,\n",
       "  'Defense': 100.0,\n",
       "  'HP': 150.0,\n",
       "  'Name': 'Slaking',\n",
       "  'PokedexNumber': 289.0,\n",
       "  'SpecialAttack': 95.0,\n",
       "  'SpecialDefense': 65.0,\n",
       "  'Speed': 100.0,\n",
       "  'Total': 670.0,\n",
       "  'Type': 'Normal'},\n",
       " {'Attack': 145.0,\n",
       "  'Defense': 130.0,\n",
       "  'HP': 95.0,\n",
       "  'Name': 'SalamenceMega Salamence',\n",
       "  'PokedexNumber': 373.0,\n",
       "  'SpecialAttack': 120.0,\n",
       "  'SpecialDefense': 90.0,\n",
       "  'Speed': 120.0,\n",
       "  'Total': 700.0,\n",
       "  'Type': 'DragonFlying'},\n",
       " {'Attack': 145.0,\n",
       "  'Defense': 150.0,\n",
       "  'HP': 80.0,\n",
       "  'Name': 'MetagrossMega Metagross',\n",
       "  'PokedexNumber': 376.0,\n",
       "  'SpecialAttack': 105.0,\n",
       "  'SpecialDefense': 110.0,\n",
       "  'Speed': 110.0,\n",
       "  'Total': 700.0,\n",
       "  'Type': 'SteelPsychic'},\n",
       " {'Attack': 100.0,\n",
       "  'Defense': 120.0,\n",
       "  'HP': 80.0,\n",
       "  'Name': 'LatiasMega Latias',\n",
       "  'PokedexNumber': 380.0,\n",
       "  'SpecialAttack': 140.0,\n",
       "  'SpecialDefense': 150.0,\n",
       "  'Speed': 110.0,\n",
       "  'Total': 700.0,\n",
       "  'Type': 'DragonPsychic'},\n",
       " {'Attack': 130.0,\n",
       "  'Defense': 100.0,\n",
       "  'HP': 80.0,\n",
       "  'Name': 'LatiosMega Latios',\n",
       "  'PokedexNumber': 381.0,\n",
       "  'SpecialAttack': 160.0,\n",
       "  'SpecialDefense': 120.0,\n",
       "  'Speed': 110.0,\n",
       "  'Total': 700.0,\n",
       "  'Type': 'DragonPsychic'},\n",
       " {'Attack': 150.0,\n",
       "  'Defense': 90.0,\n",
       "  'HP': 100.0,\n",
       "  'Name': 'KyogrePrimal Kyogre',\n",
       "  'PokedexNumber': 382.0,\n",
       "  'SpecialAttack': 180.0,\n",
       "  'SpecialDefense': 160.0,\n",
       "  'Speed': 90.0,\n",
       "  'Total': 770.0,\n",
       "  'Type': 'Water'},\n",
       " {'Attack': 180.0,\n",
       "  'Defense': 160.0,\n",
       "  'HP': 100.0,\n",
       "  'Name': 'GroudonPrimal Groudon',\n",
       "  'PokedexNumber': 383.0,\n",
       "  'SpecialAttack': 150.0,\n",
       "  'SpecialDefense': 90.0,\n",
       "  'Speed': 90.0,\n",
       "  'Total': 770.0,\n",
       "  'Type': 'GroundFire'},\n",
       " {'Attack': 180.0,\n",
       "  'Defense': 100.0,\n",
       "  'HP': 105.0,\n",
       "  'Name': 'RayquazaMega Rayquaza',\n",
       "  'PokedexNumber': 384.0,\n",
       "  'SpecialAttack': 180.0,\n",
       "  'SpecialDefense': 100.0,\n",
       "  'Speed': 115.0,\n",
       "  'Total': 780.0,\n",
       "  'Type': 'DragonFlying'},\n",
       " {'Attack': 170.0,\n",
       "  'Defense': 115.0,\n",
       "  'HP': 108.0,\n",
       "  'Name': 'GarchompMega Garchomp',\n",
       "  'PokedexNumber': 445.0,\n",
       "  'SpecialAttack': 120.0,\n",
       "  'SpecialDefense': 95.0,\n",
       "  'Speed': 92.0,\n",
       "  'Total': 700.0,\n",
       "  'Type': 'DragonGround'},\n",
       " {'Attack': 120.0,\n",
       "  'Defense': 120.0,\n",
       "  'HP': 100.0,\n",
       "  'Name': 'Dialga',\n",
       "  'PokedexNumber': 483.0,\n",
       "  'SpecialAttack': 150.0,\n",
       "  'SpecialDefense': 100.0,\n",
       "  'Speed': 90.0,\n",
       "  'Total': 680.0,\n",
       "  'Type': 'SteelDragon'},\n",
       " {'Attack': 120.0,\n",
       "  'Defense': 100.0,\n",
       "  'HP': 90.0,\n",
       "  'Name': 'Palkia',\n",
       "  'PokedexNumber': 484.0,\n",
       "  'SpecialAttack': 150.0,\n",
       "  'SpecialDefense': 120.0,\n",
       "  'Speed': 100.0,\n",
       "  'Total': 680.0,\n",
       "  'Type': 'WaterDragon'},\n",
       " {'Attack': 160.0,\n",
       "  'Defense': 110.0,\n",
       "  'HP': 110.0,\n",
       "  'Name': 'Regigigas',\n",
       "  'PokedexNumber': 486.0,\n",
       "  'SpecialAttack': 80.0,\n",
       "  'SpecialDefense': 110.0,\n",
       "  'Speed': 100.0,\n",
       "  'Total': 670.0,\n",
       "  'Type': 'Normal'},\n",
       " {'Attack': 120.0,\n",
       "  'Defense': 100.0,\n",
       "  'HP': 150.0,\n",
       "  'Name': 'GiratinaOrigin Forme',\n",
       "  'PokedexNumber': 487.0,\n",
       "  'SpecialAttack': 120.0,\n",
       "  'SpecialDefense': 100.0,\n",
       "  'Speed': 90.0,\n",
       "  'Total': 680.0,\n",
       "  'Type': 'GhostDragon'},\n",
       " {'Attack': 120.0,\n",
       "  'Defense': 120.0,\n",
       "  'HP': 120.0,\n",
       "  'Name': 'Arceus',\n",
       "  'PokedexNumber': 493.0,\n",
       "  'SpecialAttack': 120.0,\n",
       "  'SpecialDefense': 120.0,\n",
       "  'Speed': 120.0,\n",
       "  'Total': 720.0,\n",
       "  'Type': 'Normal'},\n",
       " {'Attack': 120.0,\n",
       "  'Defense': 100.0,\n",
       "  'HP': 100.0,\n",
       "  'Name': 'Reshiram',\n",
       "  'PokedexNumber': 643.0,\n",
       "  'SpecialAttack': 150.0,\n",
       "  'SpecialDefense': 120.0,\n",
       "  'Speed': 90.0,\n",
       "  'Total': 680.0,\n",
       "  'Type': 'DragonFire'},\n",
       " {'Attack': 150.0,\n",
       "  'Defense': 120.0,\n",
       "  'HP': 100.0,\n",
       "  'Name': 'Zekrom',\n",
       "  'PokedexNumber': 644.0,\n",
       "  'SpecialAttack': 120.0,\n",
       "  'SpecialDefense': 100.0,\n",
       "  'Speed': 90.0,\n",
       "  'Total': 680.0,\n",
       "  'Type': 'DragonElectric'},\n",
       " {'Attack': 120.0,\n",
       "  'Defense': 90.0,\n",
       "  'HP': 125.0,\n",
       "  'Name': 'KyuremWhite Kyurem',\n",
       "  'PokedexNumber': 646.0,\n",
       "  'SpecialAttack': 170.0,\n",
       "  'SpecialDefense': 100.0,\n",
       "  'Speed': 95.0,\n",
       "  'Total': 700.0,\n",
       "  'Type': 'DragonIce'},\n",
       " {'Attack': 131.0,\n",
       "  'Defense': 95.0,\n",
       "  'HP': 126.0,\n",
       "  'Name': 'Xerneas',\n",
       "  'PokedexNumber': 716.0,\n",
       "  'SpecialAttack': 131.0,\n",
       "  'SpecialDefense': 98.0,\n",
       "  'Speed': 99.0,\n",
       "  'Total': 680.0,\n",
       "  'Type': 'Fairy'},\n",
       " {'Attack': 131.0,\n",
       "  'Defense': 95.0,\n",
       "  'HP': 126.0,\n",
       "  'Name': 'Yveltal',\n",
       "  'PokedexNumber': 717.0,\n",
       "  'SpecialAttack': 131.0,\n",
       "  'SpecialDefense': 98.0,\n",
       "  'Speed': 99.0,\n",
       "  'Total': 680.0,\n",
       "  'Type': 'DarkFlying'},\n",
       " {'Attack': 160.0,\n",
       "  'Defense': 110.0,\n",
       "  'HP': 50.0,\n",
       "  'Name': 'DiancieMega Diancie',\n",
       "  'PokedexNumber': 719.0,\n",
       "  'SpecialAttack': 160.0,\n",
       "  'SpecialDefense': 110.0,\n",
       "  'Speed': 110.0,\n",
       "  'Total': 700.0,\n",
       "  'Type': 'RockFairy'},\n",
       " {'Attack': 160.0,\n",
       "  'Defense': 60.0,\n",
       "  'HP': 80.0,\n",
       "  'Name': 'HoopaHoopa Unbound',\n",
       "  'PokedexNumber': 720.0,\n",
       "  'SpecialAttack': 170.0,\n",
       "  'SpecialDefense': 130.0,\n",
       "  'Speed': 80.0,\n",
       "  'Total': 680.0,\n",
       "  'Type': 'PsychicDark'}]"
      ]
     },
     "execution_count": 158,
     "metadata": {},
     "output_type": "execute_result"
    }
   ],
   "source": [
    "overpowered = [ind_poke_dict \n",
    "               for poke_id, ind_poke_dict in new_pd_dict.items() \n",
    "               if ind_poke_dict['Total'] > 2.5*this_std + three_std]\n",
    "\n",
    "overpowered"
   ]
  },
  {
   "cell_type": "code",
   "execution_count": null,
   "metadata": {
    "collapsed": true
   },
   "outputs": [],
   "source": []
  },
  {
   "cell_type": "markdown",
   "metadata": {},
   "source": [
    "<img src=\"http://imgur.com/l5NasQj.png\" style=\"float: left; margin: 25px 15px 0px 0px; height: 25px\">\n",
    "### C) Outlier detection part 2\n",
    "\n",
    "[Tukey's method for outline detection](https://en.wikipedia.org/wiki/Outlier#Tukey.27s_fences) states that anything more than 1.5 * the interquartile range above or below the median is an outlier. Find outliers using this method!"
   ]
  },
  {
   "cell_type": "code",
   "execution_count": 162,
   "metadata": {},
   "outputs": [
    {
     "data": {
      "text/plain": [
       "320.0"
      ]
     },
     "execution_count": 162,
     "metadata": {},
     "output_type": "execute_result"
    }
   ],
   "source": [
    "first_quartile = np.percentile(new_pd_dict_columns['Total'], 25)\n",
    "first_quartile"
   ]
  },
  {
   "cell_type": "code",
   "execution_count": 163,
   "metadata": {},
   "outputs": [
    {
     "data": {
      "text/plain": [
       "500.0"
      ]
     },
     "execution_count": 163,
     "metadata": {},
     "output_type": "execute_result"
    }
   ],
   "source": [
    "third_quartile = np.percentile(new_pd_dict_columns['Total'], 75)\n",
    "third_quartile"
   ]
  },
  {
   "cell_type": "code",
   "execution_count": 164,
   "metadata": {},
   "outputs": [
    {
     "data": {
      "text/plain": [
       "180.0"
      ]
     },
     "execution_count": 164,
     "metadata": {},
     "output_type": "execute_result"
    }
   ],
   "source": [
    "iqr = third_quartile - first_quartile\n",
    "iqr"
   ]
  },
  {
   "cell_type": "code",
   "execution_count": 166,
   "metadata": {},
   "outputs": [
    {
     "data": {
      "text/plain": [
       "140.0"
      ]
     },
     "metadata": {},
     "output_type": "display_data"
    },
    {
     "data": {
      "text/plain": [
       "680.0"
      ]
     },
     "metadata": {},
     "output_type": "display_data"
    }
   ],
   "source": [
    "lower_fence = first_quartile - iqr\n",
    "upper_fence = third_quartile + iqr\n",
    "display(lower_fence)\n",
    "display(upper_fence)"
   ]
  },
  {
   "cell_type": "code",
   "execution_count": 167,
   "metadata": {},
   "outputs": [
    {
     "data": {
      "text/plain": [
       "[{'Attack': 150.0,\n",
       "  'Defense': 70.0,\n",
       "  'HP': 106.0,\n",
       "  'Name': 'MewtwoMega Mewtwo Y',\n",
       "  'PokedexNumber': 150.0,\n",
       "  'SpecialAttack': 194.0,\n",
       "  'SpecialDefense': 120.0,\n",
       "  'Speed': 140.0,\n",
       "  'Total': 780.0,\n",
       "  'Type': 'Psychic'},\n",
       " {'Attack': 164.0,\n",
       "  'Defense': 150.0,\n",
       "  'HP': 100.0,\n",
       "  'Name': 'TyranitarMega Tyranitar',\n",
       "  'PokedexNumber': 248.0,\n",
       "  'SpecialAttack': 95.0,\n",
       "  'SpecialDefense': 120.0,\n",
       "  'Speed': 71.0,\n",
       "  'Total': 700.0,\n",
       "  'Type': 'RockDark'},\n",
       " {'Attack': 145.0,\n",
       "  'Defense': 130.0,\n",
       "  'HP': 95.0,\n",
       "  'Name': 'SalamenceMega Salamence',\n",
       "  'PokedexNumber': 373.0,\n",
       "  'SpecialAttack': 120.0,\n",
       "  'SpecialDefense': 90.0,\n",
       "  'Speed': 120.0,\n",
       "  'Total': 700.0,\n",
       "  'Type': 'DragonFlying'},\n",
       " {'Attack': 145.0,\n",
       "  'Defense': 150.0,\n",
       "  'HP': 80.0,\n",
       "  'Name': 'MetagrossMega Metagross',\n",
       "  'PokedexNumber': 376.0,\n",
       "  'SpecialAttack': 105.0,\n",
       "  'SpecialDefense': 110.0,\n",
       "  'Speed': 110.0,\n",
       "  'Total': 700.0,\n",
       "  'Type': 'SteelPsychic'},\n",
       " {'Attack': 100.0,\n",
       "  'Defense': 120.0,\n",
       "  'HP': 80.0,\n",
       "  'Name': 'LatiasMega Latias',\n",
       "  'PokedexNumber': 380.0,\n",
       "  'SpecialAttack': 140.0,\n",
       "  'SpecialDefense': 150.0,\n",
       "  'Speed': 110.0,\n",
       "  'Total': 700.0,\n",
       "  'Type': 'DragonPsychic'},\n",
       " {'Attack': 130.0,\n",
       "  'Defense': 100.0,\n",
       "  'HP': 80.0,\n",
       "  'Name': 'LatiosMega Latios',\n",
       "  'PokedexNumber': 381.0,\n",
       "  'SpecialAttack': 160.0,\n",
       "  'SpecialDefense': 120.0,\n",
       "  'Speed': 110.0,\n",
       "  'Total': 700.0,\n",
       "  'Type': 'DragonPsychic'},\n",
       " {'Attack': 150.0,\n",
       "  'Defense': 90.0,\n",
       "  'HP': 100.0,\n",
       "  'Name': 'KyogrePrimal Kyogre',\n",
       "  'PokedexNumber': 382.0,\n",
       "  'SpecialAttack': 180.0,\n",
       "  'SpecialDefense': 160.0,\n",
       "  'Speed': 90.0,\n",
       "  'Total': 770.0,\n",
       "  'Type': 'Water'},\n",
       " {'Attack': 180.0,\n",
       "  'Defense': 160.0,\n",
       "  'HP': 100.0,\n",
       "  'Name': 'GroudonPrimal Groudon',\n",
       "  'PokedexNumber': 383.0,\n",
       "  'SpecialAttack': 150.0,\n",
       "  'SpecialDefense': 90.0,\n",
       "  'Speed': 90.0,\n",
       "  'Total': 770.0,\n",
       "  'Type': 'GroundFire'},\n",
       " {'Attack': 180.0,\n",
       "  'Defense': 100.0,\n",
       "  'HP': 105.0,\n",
       "  'Name': 'RayquazaMega Rayquaza',\n",
       "  'PokedexNumber': 384.0,\n",
       "  'SpecialAttack': 180.0,\n",
       "  'SpecialDefense': 100.0,\n",
       "  'Speed': 115.0,\n",
       "  'Total': 780.0,\n",
       "  'Type': 'DragonFlying'},\n",
       " {'Attack': 170.0,\n",
       "  'Defense': 115.0,\n",
       "  'HP': 108.0,\n",
       "  'Name': 'GarchompMega Garchomp',\n",
       "  'PokedexNumber': 445.0,\n",
       "  'SpecialAttack': 120.0,\n",
       "  'SpecialDefense': 95.0,\n",
       "  'Speed': 92.0,\n",
       "  'Total': 700.0,\n",
       "  'Type': 'DragonGround'},\n",
       " {'Attack': 120.0,\n",
       "  'Defense': 120.0,\n",
       "  'HP': 120.0,\n",
       "  'Name': 'Arceus',\n",
       "  'PokedexNumber': 493.0,\n",
       "  'SpecialAttack': 120.0,\n",
       "  'SpecialDefense': 120.0,\n",
       "  'Speed': 120.0,\n",
       "  'Total': 720.0,\n",
       "  'Type': 'Normal'},\n",
       " {'Attack': 120.0,\n",
       "  'Defense': 90.0,\n",
       "  'HP': 125.0,\n",
       "  'Name': 'KyuremWhite Kyurem',\n",
       "  'PokedexNumber': 646.0,\n",
       "  'SpecialAttack': 170.0,\n",
       "  'SpecialDefense': 100.0,\n",
       "  'Speed': 95.0,\n",
       "  'Total': 700.0,\n",
       "  'Type': 'DragonIce'},\n",
       " {'Attack': 160.0,\n",
       "  'Defense': 110.0,\n",
       "  'HP': 50.0,\n",
       "  'Name': 'DiancieMega Diancie',\n",
       "  'PokedexNumber': 719.0,\n",
       "  'SpecialAttack': 160.0,\n",
       "  'SpecialDefense': 110.0,\n",
       "  'Speed': 110.0,\n",
       "  'Total': 700.0,\n",
       "  'Type': 'RockFairy'}]"
      ]
     },
     "execution_count": 167,
     "metadata": {},
     "output_type": "execute_result"
    }
   ],
   "source": [
    "outliers = [ind_poke_dict \n",
    "               for poke_id, ind_poke_dict in new_pd_dict.items() \n",
    "               if ind_poke_dict['Total'] < lower_fence or ind_poke_dict['Total'] > upper_fence]\n",
    "\n",
    "outliers"
   ]
  },
  {
   "cell_type": "code",
   "execution_count": null,
   "metadata": {
    "collapsed": true
   },
   "outputs": [],
   "source": []
  }
 ],
 "metadata": {
  "anaconda-cloud": {},
  "kernelspec": {
   "display_name": "Python 3",
   "language": "python",
   "name": "python3"
  },
  "language_info": {
   "codemirror_mode": {
    "name": "ipython",
    "version": 3
   },
   "file_extension": ".py",
   "mimetype": "text/x-python",
   "name": "python",
   "nbconvert_exporter": "python",
   "pygments_lexer": "ipython3",
   "version": "3.6.1"
  }
 },
 "nbformat": 4,
 "nbformat_minor": 1
}
